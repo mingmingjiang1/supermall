{
 "cells": [
  {
   "cell_type": "code",
   "execution_count": 24,
   "metadata": {},
   "outputs": [],
   "source": [
    "%matplotlib inline\n",
    "from sklearn.ensemble import RandomForestClassifier\n",
    "import numpy as np\n",
    "import pandas as pd\n",
    "from matplotlib import pyplot as plt\n",
    "from sklearn.metrics import precision_score as P\n",
    "from sklearn.metrics import recall_score as R\n",
    "from sklearn.metrics import f1_score as F1\n",
    "from sklearn.metrics import roc_curve\n",
    "from sklearn.metrics import roc_auc_score"
   ]
  },
  {
   "cell_type": "code",
   "execution_count": 2,
   "metadata": {},
   "outputs": [],
   "source": [
    "def load_data(file_name,data,label):\n",
    "    with open(file_name,'r') as f:\n",
    "        for num, value in enumerate(f):\n",
    "            if num%2:\n",
    "                data.append(value.strip('\\n'))\n",
    "            elif 'Negative' in value:\n",
    "                label.append(0)\n",
    "\n",
    "            else: \n",
    "                label.append(1) \n",
    "    return data,label\n",
    "def encode(seq):\n",
    "    num=[]\n",
    "    num.append(seq.count('A')/len(seq))\n",
    "    num.append(seq.count('R')/len(seq))\n",
    "    num.append(seq.count('N')/len(seq))\n",
    "    num.append(seq.count('D')/len(seq))\n",
    "    num.append(seq.count('C')/len(seq))\n",
    "    num.append(seq.count('Q')/len(seq))\n",
    "    num.append(seq.count('E')/len(seq))\n",
    "    num.append(seq.count('G')/len(seq))\n",
    "    num.append(seq.count('H')/len(seq))\n",
    "    num.append(seq.count('I')/len(seq))\n",
    "    num.append(seq.count('L')/len(seq))\n",
    "    num.append(seq.count('K')/len(seq))\n",
    "    num.append(seq.count('M')/len(seq))\n",
    "    num.append(seq.count('F')/len(seq))\n",
    "    num.append(seq.count('P')/len(seq))\n",
    "    num.append(seq.count('S')/len(seq))\n",
    "    num.append(seq.count('T')/len(seq))\n",
    "    num.append(seq.count('W')/len(seq))\n",
    "    num.append(seq.count('Y')/len(seq))\n",
    "    num.append(seq.count('V')/len(seq))\n",
    "    return num"
   ]
  },
  {
   "cell_type": "code",
   "execution_count": 3,
   "metadata": {},
   "outputs": [],
   "source": [
    "data_train=[]\n",
    "label_train=[]\n",
    "data_train,label_train=load_data('Layer1-negative.txt',data_train,label_train)\n",
    "data_train,label_train=load_data('Layer1-positive.txt',data_train,label_train)"
   ]
  },
  {
   "cell_type": "code",
   "execution_count": 4,
   "metadata": {},
   "outputs": [],
   "source": [
    "for i in range(len(data_train)):\n",
    "    data_train[i]=encode(data_train[i])"
   ]
  },
  {
   "cell_type": "code",
   "execution_count": 5,
   "metadata": {},
   "outputs": [
    {
     "data": {
      "text/html": [
       "<div>\n",
       "<style scoped>\n",
       "    .dataframe tbody tr th:only-of-type {\n",
       "        vertical-align: middle;\n",
       "    }\n",
       "\n",
       "    .dataframe tbody tr th {\n",
       "        vertical-align: top;\n",
       "    }\n",
       "\n",
       "    .dataframe thead th {\n",
       "        text-align: right;\n",
       "    }\n",
       "</style>\n",
       "<table border=\"1\" class=\"dataframe\">\n",
       "  <thead>\n",
       "    <tr style=\"text-align: right;\">\n",
       "      <th></th>\n",
       "      <th>0</th>\n",
       "      <th>1</th>\n",
       "      <th>2</th>\n",
       "      <th>3</th>\n",
       "      <th>4</th>\n",
       "      <th>5</th>\n",
       "      <th>6</th>\n",
       "      <th>7</th>\n",
       "      <th>8</th>\n",
       "      <th>9</th>\n",
       "      <th>...</th>\n",
       "      <th>11</th>\n",
       "      <th>12</th>\n",
       "      <th>13</th>\n",
       "      <th>14</th>\n",
       "      <th>15</th>\n",
       "      <th>16</th>\n",
       "      <th>17</th>\n",
       "      <th>18</th>\n",
       "      <th>19</th>\n",
       "      <th>0</th>\n",
       "    </tr>\n",
       "  </thead>\n",
       "  <tbody>\n",
       "    <tr>\n",
       "      <td>0</td>\n",
       "      <td>0.000000</td>\n",
       "      <td>0.071429</td>\n",
       "      <td>0.071429</td>\n",
       "      <td>0.071429</td>\n",
       "      <td>0.000000</td>\n",
       "      <td>0.000000</td>\n",
       "      <td>0.000000</td>\n",
       "      <td>0.000000</td>\n",
       "      <td>0.000000</td>\n",
       "      <td>0.142857</td>\n",
       "      <td>...</td>\n",
       "      <td>0.071429</td>\n",
       "      <td>0.000000</td>\n",
       "      <td>0.000000</td>\n",
       "      <td>0.142857</td>\n",
       "      <td>0.214286</td>\n",
       "      <td>0.214286</td>\n",
       "      <td>0.000000</td>\n",
       "      <td>0.000000</td>\n",
       "      <td>0.000000</td>\n",
       "      <td>0</td>\n",
       "    </tr>\n",
       "    <tr>\n",
       "      <td>1</td>\n",
       "      <td>0.000000</td>\n",
       "      <td>0.076923</td>\n",
       "      <td>0.000000</td>\n",
       "      <td>0.076923</td>\n",
       "      <td>0.000000</td>\n",
       "      <td>0.076923</td>\n",
       "      <td>0.000000</td>\n",
       "      <td>0.000000</td>\n",
       "      <td>0.230769</td>\n",
       "      <td>0.076923</td>\n",
       "      <td>...</td>\n",
       "      <td>0.153846</td>\n",
       "      <td>0.000000</td>\n",
       "      <td>0.076923</td>\n",
       "      <td>0.153846</td>\n",
       "      <td>0.000000</td>\n",
       "      <td>0.000000</td>\n",
       "      <td>0.000000</td>\n",
       "      <td>0.000000</td>\n",
       "      <td>0.000000</td>\n",
       "      <td>0</td>\n",
       "    </tr>\n",
       "    <tr>\n",
       "      <td>2</td>\n",
       "      <td>0.185185</td>\n",
       "      <td>0.037037</td>\n",
       "      <td>0.000000</td>\n",
       "      <td>0.000000</td>\n",
       "      <td>0.074074</td>\n",
       "      <td>0.037037</td>\n",
       "      <td>0.037037</td>\n",
       "      <td>0.148148</td>\n",
       "      <td>0.074074</td>\n",
       "      <td>0.074074</td>\n",
       "      <td>...</td>\n",
       "      <td>0.037037</td>\n",
       "      <td>0.000000</td>\n",
       "      <td>0.000000</td>\n",
       "      <td>0.037037</td>\n",
       "      <td>0.000000</td>\n",
       "      <td>0.000000</td>\n",
       "      <td>0.000000</td>\n",
       "      <td>0.000000</td>\n",
       "      <td>0.111111</td>\n",
       "      <td>0</td>\n",
       "    </tr>\n",
       "    <tr>\n",
       "      <td>3</td>\n",
       "      <td>0.041667</td>\n",
       "      <td>0.000000</td>\n",
       "      <td>0.083333</td>\n",
       "      <td>0.041667</td>\n",
       "      <td>0.000000</td>\n",
       "      <td>0.083333</td>\n",
       "      <td>0.250000</td>\n",
       "      <td>0.083333</td>\n",
       "      <td>0.000000</td>\n",
       "      <td>0.000000</td>\n",
       "      <td>...</td>\n",
       "      <td>0.083333</td>\n",
       "      <td>0.041667</td>\n",
       "      <td>0.000000</td>\n",
       "      <td>0.083333</td>\n",
       "      <td>0.041667</td>\n",
       "      <td>0.041667</td>\n",
       "      <td>0.041667</td>\n",
       "      <td>0.000000</td>\n",
       "      <td>0.041667</td>\n",
       "      <td>0</td>\n",
       "    </tr>\n",
       "    <tr>\n",
       "      <td>4</td>\n",
       "      <td>0.043478</td>\n",
       "      <td>0.000000</td>\n",
       "      <td>0.086957</td>\n",
       "      <td>0.086957</td>\n",
       "      <td>0.000000</td>\n",
       "      <td>0.086957</td>\n",
       "      <td>0.000000</td>\n",
       "      <td>0.000000</td>\n",
       "      <td>0.043478</td>\n",
       "      <td>0.086957</td>\n",
       "      <td>...</td>\n",
       "      <td>0.130435</td>\n",
       "      <td>0.043478</td>\n",
       "      <td>0.000000</td>\n",
       "      <td>0.000000</td>\n",
       "      <td>0.086957</td>\n",
       "      <td>0.086957</td>\n",
       "      <td>0.000000</td>\n",
       "      <td>0.086957</td>\n",
       "      <td>0.000000</td>\n",
       "      <td>0</td>\n",
       "    </tr>\n",
       "    <tr>\n",
       "      <td>...</td>\n",
       "      <td>...</td>\n",
       "      <td>...</td>\n",
       "      <td>...</td>\n",
       "      <td>...</td>\n",
       "      <td>...</td>\n",
       "      <td>...</td>\n",
       "      <td>...</td>\n",
       "      <td>...</td>\n",
       "      <td>...</td>\n",
       "      <td>...</td>\n",
       "      <td>...</td>\n",
       "      <td>...</td>\n",
       "      <td>...</td>\n",
       "      <td>...</td>\n",
       "      <td>...</td>\n",
       "      <td>...</td>\n",
       "      <td>...</td>\n",
       "      <td>...</td>\n",
       "      <td>...</td>\n",
       "      <td>...</td>\n",
       "      <td>...</td>\n",
       "    </tr>\n",
       "    <tr>\n",
       "      <td>851</td>\n",
       "      <td>0.062500</td>\n",
       "      <td>0.000000</td>\n",
       "      <td>0.000000</td>\n",
       "      <td>0.031250</td>\n",
       "      <td>0.000000</td>\n",
       "      <td>0.031250</td>\n",
       "      <td>0.000000</td>\n",
       "      <td>0.093750</td>\n",
       "      <td>0.000000</td>\n",
       "      <td>0.062500</td>\n",
       "      <td>...</td>\n",
       "      <td>0.250000</td>\n",
       "      <td>0.000000</td>\n",
       "      <td>0.062500</td>\n",
       "      <td>0.031250</td>\n",
       "      <td>0.093750</td>\n",
       "      <td>0.000000</td>\n",
       "      <td>0.000000</td>\n",
       "      <td>0.000000</td>\n",
       "      <td>0.187500</td>\n",
       "      <td>1</td>\n",
       "    </tr>\n",
       "    <tr>\n",
       "      <td>852</td>\n",
       "      <td>0.050000</td>\n",
       "      <td>0.000000</td>\n",
       "      <td>0.000000</td>\n",
       "      <td>0.000000</td>\n",
       "      <td>0.000000</td>\n",
       "      <td>0.000000</td>\n",
       "      <td>0.000000</td>\n",
       "      <td>0.000000</td>\n",
       "      <td>0.050000</td>\n",
       "      <td>0.050000</td>\n",
       "      <td>...</td>\n",
       "      <td>0.350000</td>\n",
       "      <td>0.000000</td>\n",
       "      <td>0.150000</td>\n",
       "      <td>0.000000</td>\n",
       "      <td>0.150000</td>\n",
       "      <td>0.000000</td>\n",
       "      <td>0.050000</td>\n",
       "      <td>0.000000</td>\n",
       "      <td>0.000000</td>\n",
       "      <td>1</td>\n",
       "    </tr>\n",
       "    <tr>\n",
       "      <td>853</td>\n",
       "      <td>0.000000</td>\n",
       "      <td>0.115385</td>\n",
       "      <td>0.000000</td>\n",
       "      <td>0.000000</td>\n",
       "      <td>0.000000</td>\n",
       "      <td>0.000000</td>\n",
       "      <td>0.000000</td>\n",
       "      <td>0.038462</td>\n",
       "      <td>0.038462</td>\n",
       "      <td>0.038462</td>\n",
       "      <td>...</td>\n",
       "      <td>0.269231</td>\n",
       "      <td>0.000000</td>\n",
       "      <td>0.153846</td>\n",
       "      <td>0.076923</td>\n",
       "      <td>0.038462</td>\n",
       "      <td>0.000000</td>\n",
       "      <td>0.000000</td>\n",
       "      <td>0.000000</td>\n",
       "      <td>0.038462</td>\n",
       "      <td>1</td>\n",
       "    </tr>\n",
       "    <tr>\n",
       "      <td>854</td>\n",
       "      <td>0.081081</td>\n",
       "      <td>0.054054</td>\n",
       "      <td>0.027027</td>\n",
       "      <td>0.027027</td>\n",
       "      <td>0.054054</td>\n",
       "      <td>0.000000</td>\n",
       "      <td>0.000000</td>\n",
       "      <td>0.162162</td>\n",
       "      <td>0.000000</td>\n",
       "      <td>0.054054</td>\n",
       "      <td>...</td>\n",
       "      <td>0.162162</td>\n",
       "      <td>0.027027</td>\n",
       "      <td>0.054054</td>\n",
       "      <td>0.000000</td>\n",
       "      <td>0.081081</td>\n",
       "      <td>0.027027</td>\n",
       "      <td>0.000000</td>\n",
       "      <td>0.000000</td>\n",
       "      <td>0.108108</td>\n",
       "      <td>1</td>\n",
       "    </tr>\n",
       "    <tr>\n",
       "      <td>855</td>\n",
       "      <td>0.045455</td>\n",
       "      <td>0.090909</td>\n",
       "      <td>0.000000</td>\n",
       "      <td>0.000000</td>\n",
       "      <td>0.000000</td>\n",
       "      <td>0.000000</td>\n",
       "      <td>0.000000</td>\n",
       "      <td>0.090909</td>\n",
       "      <td>0.181818</td>\n",
       "      <td>0.136364</td>\n",
       "      <td>...</td>\n",
       "      <td>0.045455</td>\n",
       "      <td>0.000000</td>\n",
       "      <td>0.136364</td>\n",
       "      <td>0.000000</td>\n",
       "      <td>0.000000</td>\n",
       "      <td>0.090909</td>\n",
       "      <td>0.000000</td>\n",
       "      <td>0.000000</td>\n",
       "      <td>0.136364</td>\n",
       "      <td>1</td>\n",
       "    </tr>\n",
       "  </tbody>\n",
       "</table>\n",
       "<p>856 rows × 21 columns</p>\n",
       "</div>"
      ],
      "text/plain": [
       "           0         1         2         3         4         5         6   \\\n",
       "0    0.000000  0.071429  0.071429  0.071429  0.000000  0.000000  0.000000   \n",
       "1    0.000000  0.076923  0.000000  0.076923  0.000000  0.076923  0.000000   \n",
       "2    0.185185  0.037037  0.000000  0.000000  0.074074  0.037037  0.037037   \n",
       "3    0.041667  0.000000  0.083333  0.041667  0.000000  0.083333  0.250000   \n",
       "4    0.043478  0.000000  0.086957  0.086957  0.000000  0.086957  0.000000   \n",
       "..        ...       ...       ...       ...       ...       ...       ...   \n",
       "851  0.062500  0.000000  0.000000  0.031250  0.000000  0.031250  0.000000   \n",
       "852  0.050000  0.000000  0.000000  0.000000  0.000000  0.000000  0.000000   \n",
       "853  0.000000  0.115385  0.000000  0.000000  0.000000  0.000000  0.000000   \n",
       "854  0.081081  0.054054  0.027027  0.027027  0.054054  0.000000  0.000000   \n",
       "855  0.045455  0.090909  0.000000  0.000000  0.000000  0.000000  0.000000   \n",
       "\n",
       "           7         8         9   ...        11        12        13  \\\n",
       "0    0.000000  0.000000  0.142857  ...  0.071429  0.000000  0.000000   \n",
       "1    0.000000  0.230769  0.076923  ...  0.153846  0.000000  0.076923   \n",
       "2    0.148148  0.074074  0.074074  ...  0.037037  0.000000  0.000000   \n",
       "3    0.083333  0.000000  0.000000  ...  0.083333  0.041667  0.000000   \n",
       "4    0.000000  0.043478  0.086957  ...  0.130435  0.043478  0.000000   \n",
       "..        ...       ...       ...  ...       ...       ...       ...   \n",
       "851  0.093750  0.000000  0.062500  ...  0.250000  0.000000  0.062500   \n",
       "852  0.000000  0.050000  0.050000  ...  0.350000  0.000000  0.150000   \n",
       "853  0.038462  0.038462  0.038462  ...  0.269231  0.000000  0.153846   \n",
       "854  0.162162  0.000000  0.054054  ...  0.162162  0.027027  0.054054   \n",
       "855  0.090909  0.181818  0.136364  ...  0.045455  0.000000  0.136364   \n",
       "\n",
       "           14        15        16        17        18        19  0   \n",
       "0    0.142857  0.214286  0.214286  0.000000  0.000000  0.000000   0  \n",
       "1    0.153846  0.000000  0.000000  0.000000  0.000000  0.000000   0  \n",
       "2    0.037037  0.000000  0.000000  0.000000  0.000000  0.111111   0  \n",
       "3    0.083333  0.041667  0.041667  0.041667  0.000000  0.041667   0  \n",
       "4    0.000000  0.086957  0.086957  0.000000  0.086957  0.000000   0  \n",
       "..        ...       ...       ...       ...       ...       ...  ..  \n",
       "851  0.031250  0.093750  0.000000  0.000000  0.000000  0.187500   1  \n",
       "852  0.000000  0.150000  0.000000  0.050000  0.000000  0.000000   1  \n",
       "853  0.076923  0.038462  0.000000  0.000000  0.000000  0.038462   1  \n",
       "854  0.000000  0.081081  0.027027  0.000000  0.000000  0.108108   1  \n",
       "855  0.000000  0.000000  0.090909  0.000000  0.000000  0.136364   1  \n",
       "\n",
       "[856 rows x 21 columns]"
      ]
     },
     "execution_count": 5,
     "metadata": {},
     "output_type": "execute_result"
    }
   ],
   "source": [
    "pd.concat([pd.DataFrame(data_train),pd.DataFrame(label_train)],axis=1)"
   ]
  },
  {
   "cell_type": "code",
   "execution_count": 6,
   "metadata": {},
   "outputs": [
    {
     "data": {
      "text/plain": [
       "(2662, 20)"
      ]
     },
     "execution_count": 6,
     "metadata": {},
     "output_type": "execute_result"
    }
   ],
   "source": [
    "Xtest, Ytest=load_data('Layer1-Ind-negative.txt',[],[])\n",
    "Xtest, Ytest=load_data('Layer1-Ind-positive.txt',Xtest, Ytest)\n",
    "for i in range(len(Xtest)):\n",
    "    Xtest[i]=encode(Xtest[i])\n",
    "np.array(Xtest).shape"
   ]
  },
  {
   "cell_type": "code",
   "execution_count": 7,
   "metadata": {},
   "outputs": [
    {
     "name": "stdout",
     "output_type": "stream",
     "text": [
      "Random Forest:0.8782870022539444\n"
     ]
    },
    {
     "name": "stderr",
     "output_type": "stream",
     "text": [
      "C:\\Users\\King\\Anaconda3\\lib\\site-packages\\sklearn\\ensemble\\forest.py:245: FutureWarning: The default value of n_estimators will change from 10 in version 0.20 to 100 in 0.22.\n",
      "  \"10 in version 0.20 to 100 in 0.22.\", FutureWarning)\n"
     ]
    }
   ],
   "source": [
    "rfc = RandomForestClassifier(random_state=0)\n",
    "rfc = rfc.fit(data_train,label_train)\n",
    "score = rfc.score(Xtest,Ytest)\n",
    "print('Random Forest:{}'.format(score))"
   ]
  },
  {
   "cell_type": "code",
   "execution_count": 8,
   "metadata": {},
   "outputs": [
    {
     "name": "stdout",
     "output_type": "stream",
     "text": [
      "0.9075882794891059 64\n"
     ]
    },
    {
     "data": {
      "image/png": "[encoded data removed]",
      "text/plain": [
       "<Figure size 1440x360 with 1 Axes>"
      ]
     },
     "metadata": {
      "needs_background": "light"
     },
     "output_type": "display_data"
    }
   ],
   "source": [
    "superpa = []\n",
    "for i in range(200):\n",
    "    rfc = RandomForestClassifier(n_estimators=i+1,n_jobs=-1)\n",
    "    rfc = rfc.fit(data_train,label_train)\n",
    "    score = rfc.score(Xtest,Ytest)\n",
    "    superpa.append(score)\n",
    "print(max(superpa),superpa.index(max(superpa))+1)\n",
    "plt.figure(figsize=[20,5])\n",
    "plt.plot(range(1,201),superpa)\n",
    "plt.show()"
   ]
  },
  {
   "cell_type": "code",
   "execution_count": 9,
   "metadata": {},
   "outputs": [
    {
     "name": "stdout",
     "output_type": "stream",
     "text": [
      "0.9000751314800901 33\n"
     ]
    },
    {
     "data": {
      "image/png": "[encoded data removed]",
      "text/plain": [
       "<Figure size 1440x360 with 1 Axes>"
      ]
     },
     "metadata": {
      "needs_background": "light"
     },
     "output_type": "display_data"
    }
   ],
   "source": [
    "max_=[]\n",
    "for i in range (10,50):\n",
    "    rfc = RandomForestClassifier(n_estimators=64,oob_score=True,max_depth=i)\n",
    "    rfc = rfc.fit(data_train,label_train)\n",
    "    score = rfc.score(Xtest,Ytest)\n",
    "    max_.append(score)\n",
    "print(max(max_),max_.index(max(max_))+10)\n",
    "plt.figure(figsize=[20,5])\n",
    "plt.plot(range(10,50),max_)\n",
    "plt.show()"
   ]
  },
  {
   "cell_type": "code",
   "execution_count": 10,
   "metadata": {},
   "outputs": [
    {
     "name": "stdout",
     "output_type": "stream",
     "text": [
      "acc= 0.8951915852742299\n"
     ]
    },
    {
     "data": {
      "text/plain": [
       "0.9450934579439252"
      ]
     },
     "execution_count": 10,
     "metadata": {},
     "output_type": "execute_result"
    }
   ],
   "source": [
    "rfc = RandomForestClassifier(n_estimators=114,oob_score=True,max_depth=26,random_state=0)\n",
    "rfc = rfc.fit(data_train,label_train)\n",
    "score = rfc.score(Xtest,Ytest)\n",
    "print('acc=',score)\n",
    "rfc.oob_score_"
   ]
  },
  {
   "cell_type": "code",
   "execution_count": 11,
   "metadata": {},
   "outputs": [
    {
     "name": "stdout",
     "output_type": "stream",
     "text": [
      "acc= 0.8918106686701728\n"
     ]
    },
    {
     "data": {
      "text/plain": [
       "0.9439252336448598"
      ]
     },
     "execution_count": 11,
     "metadata": {},
     "output_type": "execute_result"
    }
   ],
   "source": [
    "rfc = RandomForestClassifier(n_estimators=114,oob_score=True,max_depth=26,random_state=0,criterion='entropy')\n",
    "rfc = rfc.fit(data_train,label_train)\n",
    "score = rfc.score(Xtest,Ytest)\n",
    "print('acc=',score)\n",
    "rfc.oob_score_"
   ]
  },
  {
   "cell_type": "code",
   "execution_count": 12,
   "metadata": {},
   "outputs": [],
   "source": [
    "data_train.extend(Xtest)\n",
    "label_train.extend(Ytest)\n",
    "from sklearn.model_selection import cross_val_score\n",
    "rfc = RandomForestClassifier(n_estimators=100,random_state=0)\n",
    "score_pre = cross_val_score(rfc,data_train,label_train,cv=10).mean()"
   ]
  },
  {
   "cell_type": "code",
   "execution_count": 13,
   "metadata": {},
   "outputs": [
    {
     "name": "stdout",
     "output_type": "stream",
     "text": [
      "0.9502305574632063 141\n"
     ]
    },
    {
     "data": {
      "image/png": "[encoded data removed]",
      "text/plain": [
       "<Figure size 1440x360 with 1 Axes>"
      ]
     },
     "metadata": {
      "needs_background": "light"
     },
     "output_type": "display_data"
    }
   ],
   "source": [
    "scorel = []\n",
    "for i in range(0,200,10):\n",
    "    rfc = RandomForestClassifier(n_estimators=i+1,\n",
    "                                n_jobs=-1,\n",
    "                                random_state=90)\n",
    "    score = cross_val_score(rfc,data_train,label_train,cv=10).mean()\n",
    "    scorel.append(score)\n",
    "print(max(scorel),(scorel.index(max(scorel))*10)+1)\n",
    "plt.figure(figsize=[20,5])\n",
    "plt.plot(range(1,201,10),scorel)\n",
    "plt.show()\n",
    "#list.index([object])"
   ]
  },
  {
   "cell_type": "code",
   "execution_count": null,
   "metadata": {},
   "outputs": [],
   "source": [
    "scorel = []\n",
    "for i in range(135,145):\n",
    "    rfc = RandomForestClassifier(\n",
    "                                n_estimators=i,\n",
    "                                n_jobs=-1,\n",
    "                                random_state=90)\n",
    "    score = cross_val_score(rfc,data_train,label_train,cv=10).mean()\n",
    "    scorel.append(score)\n",
    "print(max(scorel),([*range(135,145)][scorel.index(max(scorel))]))\n",
    "plt.figure(figsize=[20,5])\n",
    "plt.plot(range(35,45),scorel)\n",
    "plt.show()"
   ]
  },
  {
   "cell_type": "code",
   "execution_count": 15,
   "metadata": {},
   "outputs": [
    {
     "name": "stdout",
     "output_type": "stream",
     "text": [
      "{'max_depth': 21}\n"
     ]
    },
    {
     "data": {
      "text/plain": [
       "0.9502558271745309"
      ]
     },
     "execution_count": 15,
     "metadata": {},
     "output_type": "execute_result"
    }
   ],
   "source": [
    "#调整max_depth\n",
    "from sklearn.model_selection import GridSearchCV\n",
    "param_grid = {'max_depth':np.arange(1, 40, 1)}\n",
    "rfc = RandomForestClassifier(n_estimators=141\n",
    "                            ,random_state=90\n",
    "                            )\n",
    "GS = GridSearchCV(rfc,param_grid,cv=10)\n",
    "GS.fit(data_train,label_train)\n",
    "print(GS.best_params_)\n",
    "GS.best_score_"
   ]
  },
  {
   "cell_type": "code",
   "execution_count": 16,
   "metadata": {},
   "outputs": [
    {
     "name": "stdout",
     "output_type": "stream",
     "text": [
      "{'max_features': 4}\n"
     ]
    },
    {
     "data": {
      "text/plain": [
       "0.9502558271745309"
      ]
     },
     "execution_count": 16,
     "metadata": {},
     "output_type": "execute_result"
    }
   ],
   "source": [
    "#调整max_features\n",
    "param_grid = {'max_features':np.arange(4,20,1)}\n",
    "rfc = RandomForestClassifier(n_estimators=141\n",
    "                            ,random_state=90\n",
    "                            ,max_depth=21\n",
    "                            )\n",
    "GS = GridSearchCV(rfc,param_grid,cv=10)\n",
    "GS.fit(data_train,label_train)\n",
    "print(GS.best_params_)\n",
    "GS.best_score_"
   ]
  },
  {
   "cell_type": "code",
   "execution_count": 17,
   "metadata": {},
   "outputs": [
    {
     "name": "stdout",
     "output_type": "stream",
     "text": [
      "{'min_samples_leaf': 1}\n"
     ]
    },
    {
     "data": {
      "text/plain": [
       "0.9502558271745309"
      ]
     },
     "execution_count": 17,
     "metadata": {},
     "output_type": "execute_result"
    }
   ],
   "source": [
    "#调整min_samples_leaf\n",
    "param_grid={'min_samples_leaf':np.arange(1, 1+10, 1)}\n",
    "rfc = RandomForestClassifier(n_estimators=141\n",
    "                            ,random_state=90\n",
    "                            ,max_depth=21\n",
    "                            ,max_features=4\n",
    "                            )\n",
    "GS = GridSearchCV(rfc,param_grid,cv=10)\n",
    "GS.fit(data_train,label_train)\n",
    "print(GS.best_params_)\n",
    "GS.best_score_"
   ]
  },
  {
   "cell_type": "code",
   "execution_count": 34,
   "metadata": {},
   "outputs": [
    {
     "name": "stdout",
     "output_type": "stream",
     "text": [
      "acc= 0.8948159278737791 P= 0.8684966397767693 R= 0.8427690466651123 F1= 0.8544400699912511\n"
     ]
    },
    {
     "data": {
      "image/png": "[encoded data removed]",
      "text/plain": [
       "<Figure size 432x288 with 1 Axes>"
      ]
     },
     "metadata": {
      "needs_background": "light"
     },
     "output_type": "display_data"
    }
   ],
   "source": [
    "rfc = RandomForestClassifier(n_estimators=141\n",
    "                        ,random_state=90\n",
    "                        ,max_depth=21\n",
    "                        ,max_features=4\n",
    "                        )\n",
    "Xtrain=[]\n",
    "Ytrain=[]\n",
    "data_train,label_train=load_data('Layer1-negative.txt',Xtrain,Ytrain)\n",
    "data_train,label_train=load_data('Layer1-positive.txt',Xtrain,Ytrain)\n",
    "for i in range(len(Xtrain)):\n",
    "    Xtrain[i]=encode(Xtrain[i])\n",
    "rfc = rfc.fit(Xtrain,Ytrain)\n",
    "score = rfc.score(Xtest,Ytest)\n",
    "y_pre = rfc.predict(Xtest)\n",
    "precision_score = P(Ytest,y_pre,average='macro')\n",
    "recall_score = R(Ytest,y_pre,average='macro')\n",
    "F1_score = F1(Ytest,y_pre,average='macro')\n",
    "print('P=',precision_score,'R=',recall_score,'F1=',F1_score)\n",
    "FDR,RECALL,Thresholds = roc_curve(Ytest,rfc.predict_proba(Xtest)[:,1],pos_label=1)\n",
    "plt.figure()\n",
    "plt.plot(FDR,RECALL,color = 'red',\n",
    "        label='ROC curve')\n",
    "plt.xlim([-0.05,1.05])\n",
    "plt.ylim([-0.05,1.05])\n",
    "plt.xlabel('False Positive Rate')\n",
    "plt.ylabel('Recall')\n",
    "plt.title('ROC curve')\n",
    "plt.legend(loc = 'lower right')\n",
    "plt.show()"
   ]
  },
  {
   "cell_type": "code",
   "execution_count": 33,
   "metadata": {},
   "outputs": [
    {
     "name": "stdout",
     "output_type": "stream",
     "text": [
      "scikit-learn version: 0.21.3\n"
     ]
    }
   ],
   "source": [
    "import sklearn\n",
    "print(\"scikit-learn version: {}\".format(sklearn.__version__))"
   ]
  }
 ],
 "metadata": {
  "kernelspec": {
   "display_name": "Python 3",
   "language": "python",
   "name": "python3"
  },
  "language_info": {
   "codemirror_mode": {
    "name": "ipython",
    "version": 3
   },
   "file_extension": ".py",
   "mimetype": "text/x-python",
   "name": "python",
   "nbconvert_exporter": "python",
   "pygments_lexer": "ipython3",
   "version": "3.7.4"
  }
 },
 "nbformat": 4,
 "nbformat_minor": 2
}
